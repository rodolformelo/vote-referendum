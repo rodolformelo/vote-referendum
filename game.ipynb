{
 "cells": [
  {
   "cell_type": "code",
   "execution_count": 1,
   "metadata": {},
   "outputs": [],
   "source": [
    "import pandas as pd\n",
    "import numpy as np\n",
    "import matplotlib.pyplot as plt\n",
    "import openai\n",
    "from dotenv import load_dotenv\n",
    "import warnings\n",
    "import os\n",
    "from pydantic import BaseModel\n",
    "import datetime\n",
    "warnings.filterwarnings(\"ignore\")\n",
    "\n",
    "# Set OpenAI API key\n",
    "openai.api_key = os.getenv(\"OPENAI_API_KEY\")\n",
    "# Define random number generator\n",
    "rng = np.random.default_rng(0)\n",
    "\n",
    "# Define OpenAI client\n",
    "client = openai.OpenAI()"
   ]
  },
  {
   "cell_type": "code",
   "execution_count": 2,
   "metadata": {},
   "outputs": [
    {
     "data": {
      "text/plain": [
       "'2024-02-23'"
      ]
     },
     "execution_count": 2,
     "metadata": {},
     "output_type": "execute_result"
    }
   ],
   "source": [
    "# Today date\n",
    "\n",
    "today = datetime.date.today()\n",
    "today.strftime(\"%Y-%m-%d\")"
   ]
  },
  {
   "cell_type": "code",
   "execution_count": 31,
   "metadata": {},
   "outputs": [],
   "source": [
    "class GPT3Challenge():    \n",
    "    def __init__(self):\n",
    "        self.instruction = \"\"\"\n",
    "Sei un giudice indipendente in un concorso per determinare quale delle due risposte è più informativa.\n",
    "Ti verranno presentate due risposte a una domanda del sondaggio e dovrai determinare quale delle due è più informativa.\n",
    "Devi rispondere solo a un output in formato JSON. La chiave è 'risultato' e il valore è 'a', 'b' o 'p'.\n",
    "Formato:\n",
    "<json>{'risultato': 'a' o 'b' o 'p'}</json>      \n",
    "            \"\"\"\n",
    "        self.template = \"\"\"\n",
    "Vorremmo un aiuto nell'analizzare le risposte date ad un sondaggio che è stato somministrato a circa un migliaio di persone. L'obiettivo è raccogliere le opinioni individuali circa il sistema pensionistico e le relative riforme. Questa domanda chiede ai rispondenti di esprimere qual è il momento che loro considerano essere giusto per andare in pensione. Il testo della domanda specifica che la risposta può essere espressa sia in termini di età anagrafica che di anni di contributi versati.\n",
    "\n",
    "Il testo esatto della domanda è: “Secondo lei, quale dovrebbe essere l'età raggiunta la quale le persone devono poter andare in pensione? Oppure, in alternativa, il numero di anni di contributi, raggiunti i quali, le persone devono poter andare in pensione indipendentemente dall'età che hanno? Dica un numero e spieghi perché le sembra l'età giusta (o il numero di anni di contributi giusto).”\n",
    "\n",
    "Ti daremo due risposte. Devi dirci quale è più informativo. Precisamente, dovrebbe restituire un JSON in cui il risultato è \"a\" quando l'opzione a è più informativa, \"b\" quando l'opzione b è più informativa, o \"p\" se le due risposte sono informative con un livello pari.\n",
    "\n",
    "Nota bene: la valutazione che ti chiediamo non è legata al numero di parole o frasi contenute nella risposta, ma alla quantità e la complessità delle informazioni contenute. Ad esempio, la ripetizione di alcune parole e concetti, l'utilizzo di intercalari e l'uso di frasi complesse non implica necessariamente che la risposta contenga più informazioni.\n",
    "\n",
    "Può bensì capitare che tra due risposte di diversa lunghezza, la più lunga racchiuda meno informazioni paragonata alla seconda risposta che, sebbene più breve, sia densa di informazioni.\n",
    "\n",
    "Quindi, il livello di informazioni contenuti in una risposta è indipendente dalla lunghezza.\n",
    "\n",
    "Nota anche che le risposte vanno valutate in relazione al testo della domanda. Una risposta può essere una combinazione di parole con scarso significato se considerate in senso assoluto. Le stesse parole possono assumere significato se messe in relazione al contenuto della domanda che è stata posta.\n",
    "\n",
    "Di seguito sono riportate le due risposte per l'analisi:\n",
    "```\n",
    "a) {answer_1}\n",
    "b) {answer_2}\n",
    "```\n",
    "\"\"\"\n",
    "    \n",
    "    def game(self,answer_1, answer_2):\n",
    "        message = []\n",
    "        message.append({\"role\": \"system\", \"content\": self.instruction})\n",
    "        message.append({\"role\": \"user\", \"content\": self.template.format(answer_1 = answer_1, answer_2 = answer_2)})\n",
    "        try: \n",
    "            response = client.chat.completions.create(\n",
    "                model=\"gpt-3.5-turbo-1106\",\n",
    "                response_format={ \"type\": \"json_object\" },\n",
    "                messages=message,\n",
    "                temperature = 0,\n",
    "                seed = 0,\n",
    "            )                     \n",
    "            arguments = response.choices[0].message.content\n",
    "            arguments = arguments.replace(\"\\n\",\"\")\n",
    "            result = eval(arguments).get(\"risultato\")\n",
    "            if not result:\n",
    "                return 99\n",
    "            if result == \"a\":\n",
    "                return 1\n",
    "            elif result == \"b\":\n",
    "                return 0\n",
    "            elif result == \"p\":\n",
    "                return 2\n",
    "            else:             \n",
    "                return 99\n",
    "        except:\n",
    "            return 99"
   ]
  },
  {
   "cell_type": "code",
   "execution_count": 4,
   "metadata": {},
   "outputs": [],
   "source": [
    "class GamesDFModel(BaseModel):\n",
    "    IDU_incumbent: str\n",
    "    response_incumbent: str\n",
    "    audio_incumbent: str\n",
    "    IDU_challenger: str\n",
    "    response_challenger: str\n",
    "    audio_challenger: str\n",
    "    game_number: int\n",
    "\n",
    "class HistoryDFModel(BaseModel):\n",
    "    IDU_incumbent: str\n",
    "    response_incumbent: str\n",
    "    audio_incumbent: str\n",
    "    IDU_challenger: str\n",
    "    response_challenger: str\n",
    "    audio_challenger: str\n",
    "    game_number: int\n",
    "    result: int\n",
    "\n",
    "def validate_dataframe(df: pd.DataFrame, model: BaseModel):\n",
    "    model_fields = set(model.model_fields.keys())\n",
    "    df_columns = set(df.columns)\n",
    "    if not model_fields.issubset(df_columns):\n",
    "        missing_columns = model_fields - df_columns\n",
    "        raise ValueError(f\"The DataFrame is missing the following columns required by the model: {missing_columns}\")"
   ]
  },
  {
   "cell_type": "code",
   "execution_count": 32,
   "metadata": {},
   "outputs": [],
   "source": [
    "class GameSimulator:\n",
    "    def __init__(self, df, df_games= None, df_history=None):\n",
    "        self.df = df\n",
    "        self.response_dict = {IDU: self.df[self.df['IDU'] == IDU]['d3_'].values[0] for IDU in self.df['IDU'].unique()}\n",
    "        self.count = 0\n",
    "        \n",
    "        if df_games is None:\n",
    "            self.df_games = pd.DataFrame()  \n",
    "    \n",
    "        if df_history is None:\n",
    "            self.df_history = pd.DataFrame()  \n",
    "                    \n",
    "        if isinstance(df_games, pd.DataFrame):\n",
    "            validate_dataframe(df_games, GamesDFModel)\n",
    "            self.df_games = df_games\n",
    "            \n",
    "        if isinstance(df_history,pd.DataFrame):\n",
    "            validate_dataframe(df_history, HistoryDFModel)\n",
    "            self.df_history = df_history\n",
    "            self.history = self.__create_dict_history()\n",
    "        else:\n",
    "            self.history = {IDU: [[],[]] for IDU in self.df['IDU'].unique()}\n",
    "            \n",
    "        self.GPT3 = GPT3Challenge()\n",
    "    \n",
    "    def __create_gamesdf(self, n_games): \n",
    "        # Initialize lists to store results\n",
    "        rng = np.random.default_rng(0) \n",
    "        records = []\n",
    "\n",
    "        for incumbent_IDU in self.df['IDU'].unique():\n",
    "            incumbents = self.df[self.df['IDU'] == incumbent_IDU]\n",
    "            challengers = self.df[self.df['IDU'] != incumbent_IDU]\n",
    "            \n",
    "            # Sample challengers\n",
    "            num_challengers = min(n_games, len(challengers))\n",
    "            sampled_challengers = challengers.sample(n=num_challengers, replace=False, random_state=rng).reset_index(drop=True)\n",
    "            \n",
    "            for _, incumbent_row in incumbents.iterrows():\n",
    "                for game_num in range(num_challengers):\n",
    "                    challenger_row = sampled_challengers.iloc[game_num]\n",
    "                    \n",
    "                    # Create a record for each game\n",
    "                    record = {\n",
    "                        'IDU_incumbent': incumbent_IDU,\n",
    "                        'response_incumbent': incumbent_row['d3_'],\n",
    "                        'audio_incumbent': incumbent_row['audio'],\n",
    "                        'IDU_challenger': challenger_row['IDU'],\n",
    "                        'response_challenger': challenger_row['d3_'],\n",
    "                        'audio_challenger': challenger_row['audio'],\n",
    "                        'game_number': game_num\n",
    "                    }\n",
    "                    records.append(record)\n",
    "\n",
    "        game_df = pd.DataFrame(records)\n",
    "        \n",
    "        game_df.sort_values(by=['game_number', 'IDU_incumbent', 'IDU_challenger'], inplace=True)\n",
    "        \n",
    "        return game_df\n",
    "\n",
    "    def __create_dict_history(self):\n",
    "        history = {\n",
    "            IDU: [self.df_history[self.df_history['IDU_incumbent']==IDU][\"IDU_challenger\"].to_list(),\n",
    "                    self.df_history[self.df_history['IDU_incumbent']==IDU][\"result\"].to_list()]\n",
    "            for IDU in self.df_history['IDU_incumbent'].unique()\n",
    "        }\n",
    "        return history\n",
    "    \n",
    "    \n",
    "    def __save_game(self, path):\n",
    "        self.df_games.to_csv(path, index=False)\n",
    "    \n",
    "    \n",
    "    def __check_history_result(self, IDU, c):            \n",
    "        if c in self.history[IDU][0]:\n",
    "            index = self.history[IDU][0].index(c)\n",
    "            last_result = self.history[IDU][1][index]\n",
    "            return last_result\n",
    "        else:\n",
    "            result = self.__play_game(IDU, c)    \n",
    "            self.history[IDU][0].append(c)\n",
    "            self.history[IDU][1].append(result)\n",
    "            self.count += 1\n",
    "            return result\n",
    "    \n",
    "    def __play_game(self, IDU, c):\n",
    "        answer_1 = self.response_dict[IDU]\n",
    "        answer_2 = self.response_dict[c]\n",
    "        result = self.GPT3.game(answer_1, answer_2)\n",
    "        return result\n",
    "    \n",
    "    def export_df_games(self, path):\n",
    "        self.df_games.to_csv(path, index=False)\n",
    "    \n",
    "    def simulate_games(self, n_games=1, rounds=None):\n",
    "        \n",
    "        today_str = datetime.date.today().strftime(\"%Y-%m-%d\")\n",
    "\n",
    "        if not self.df_games.empty:\n",
    "            print(\"n_games already defined\")\n",
    "            n_games = self.df_games['game_number'].nunique()\n",
    "        else:\n",
    "            self.df_games = self.__create_gamesdf(n_games)\n",
    "             \n",
    "        number_rounds = 0\n",
    "        for i in range(n_games):\n",
    "            \n",
    "            incubents = self.df_games[self.df_games[\"game_number\"]==i]['IDU_incumbent'].values\n",
    "            opponents = self.df_games[self.df_games[\"game_number\"]==i]['IDU_challenger'].values\n",
    "            game_result = [self.__check_history_result(IDU,c) for IDU,c in zip(incubents,opponents)]\n",
    "            indices = self.df_games[self.df_games['game_number'] == i].index\n",
    "            if len(indices) == len(game_result):\n",
    "                self.df_games.loc[indices, 'result'] = game_result\n",
    "                self.__save_game(path=f\"data/game_history_{i}_{today_str}.csv\")\n",
    "            else:\n",
    "                print(f\"Error: The number of results ({len(game_result)}) does not match the expected number ({len(indices)}) for game {i}.\")\n",
    "            number_rounds += 1\n",
    "            if rounds:\n",
    "                if number_rounds >= rounds:\n",
    "                    break"
   ]
  },
  {
   "cell_type": "code",
   "execution_count": 6,
   "metadata": {},
   "outputs": [],
   "source": [
    "df_survey = pd.read_csv(r\"data\\pensioni_cleantranscripts.csv\")\n",
    "df_survey = df_survey.dropna(subset=['d3_'])"
   ]
  },
  {
   "cell_type": "code",
   "execution_count": 7,
   "metadata": {},
   "outputs": [],
   "source": [
    "game_df = pd.read_csv(\"game_df.csv\")"
   ]
  },
  {
   "cell_type": "code",
   "execution_count": 183,
   "metadata": {},
   "outputs": [],
   "source": [
    "simulator_1 = GameSimulator(df=df_survey, df_games=game_df)"
   ]
  },
  {
   "cell_type": "code",
   "execution_count": 184,
   "metadata": {},
   "outputs": [
    {
     "name": "stdout",
     "output_type": "stream",
     "text": [
      "n_games already defined\n"
     ]
    }
   ],
   "source": [
    "simulator_1.simulate_games()"
   ]
  },
  {
   "cell_type": "code",
   "execution_count": 64,
   "metadata": {},
   "outputs": [],
   "source": [
    "history_df = pd.read_csv(r\"data\\game_history_16_2024-02-24.csv\")\n",
    "history_df = history_df.dropna(subset=['result'])"
   ]
  },
  {
   "cell_type": "code",
   "execution_count": 65,
   "metadata": {},
   "outputs": [],
   "source": [
    "simulator_2 = GameSimulator(df=df_survey, df_history=history_df, df_games=game_df)"
   ]
  },
  {
   "cell_type": "code",
   "execution_count": 66,
   "metadata": {},
   "outputs": [
    {
     "name": "stdout",
     "output_type": "stream",
     "text": [
      "n_games already defined\n"
     ]
    }
   ],
   "source": [
    "simulator_2.simulate_games(rounds=26)"
   ]
  },
  {
   "cell_type": "code",
   "execution_count": 67,
   "metadata": {},
   "outputs": [
    {
     "data": {
      "text/plain": [
       "9585"
      ]
     },
     "execution_count": 67,
     "metadata": {},
     "output_type": "execute_result"
    }
   ],
   "source": [
    "simulator_2.count"
   ]
  },
  {
   "cell_type": "code",
   "execution_count": 27,
   "metadata": {},
   "outputs": [
    {
     "data": {
      "text/plain": [
       "6390"
      ]
     },
     "execution_count": 27,
     "metadata": {},
     "output_type": "execute_result"
    }
   ],
   "source": [
    "simulator_2.count"
   ]
  },
  {
   "cell_type": "code",
   "execution_count": null,
   "metadata": {},
   "outputs": [],
   "source": []
  }
 ],
 "metadata": {
  "kernelspec": {
   "display_name": "Python 3",
   "language": "python",
   "name": "python3"
  },
  "language_info": {
   "codemirror_mode": {
    "name": "ipython",
    "version": 3
   },
   "file_extension": ".py",
   "mimetype": "text/x-python",
   "name": "python",
   "nbconvert_exporter": "python",
   "pygments_lexer": "ipython3",
   "version": "3.11.7"
  }
 },
 "nbformat": 4,
 "nbformat_minor": 2
}
